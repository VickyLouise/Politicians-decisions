{
 "cells": [
  {
   "cell_type": "markdown",
   "metadata": {},
   "source": [
    "### Bring in other data"
   ]
  },
  {
   "cell_type": "code",
   "execution_count": 1,
   "metadata": {},
   "outputs": [],
   "source": [
    "import pickle\n",
    "pkl_file = open('speeches_bills_members.pkl', 'rb')\n",
    "df_all = pickle.load(pkl_file)"
   ]
  },
  {
   "cell_type": "code",
   "execution_count": 83,
   "metadata": {},
   "outputs": [
    {
     "name": "stdout",
     "output_type": "stream",
     "text": [
      "Number of bills:  624\n",
      "Number of votes:  2355\n",
      "Proportion 9.92 %\n"
     ]
    }
   ],
   "source": [
    "print(\"Number of bills: \", len(df_all['bill_slug'].unique()))\n",
    "print(\"Number of votes: \", len(df_all['votes_api_url'].unique()))\n",
    "print(\"Proportion\", round(df_all['vote_with_party'].value_counts()[0]/df_all['vote_with_party'].value_counts()[1] * 100, 2), \"%\" )"
   ]
  },
  {
   "cell_type": "code",
   "execution_count": 2,
   "metadata": {},
   "outputs": [],
   "source": [
    "df_all['dw_nominate_members'] = df_all['dw_nominate_members'].map(abs)\n",
    "df_all['dw_nominate_voters'] = df_all['dw_nominate_voters'].map(abs)\n",
    "df_all['members_seniority'] = df_all['members_seniority'].map(int)\n",
    "df_all['members_seniority_sponsor'] = df_all['members_seniority_sponsor'].map(int)"
   ]
  },
  {
   "cell_type": "code",
   "execution_count": 99,
   "metadata": {},
   "outputs": [],
   "source": [
    "df_all[['congress', 'members_congress', 'members_congress_sponsor']] = df_all[['congress', 'members_congress', 'members_congress_sponsor']].astype(object)"
   ]
  },
  {
   "cell_type": "code",
   "execution_count": 106,
   "metadata": {},
   "outputs": [],
   "source": [
    "df_all[['members_missed_votes_pct', 'missed_votes_pct','members_seniority', 'members_seniority_sponsor', 'members_votes_with_party_pct','votes_with_party_pct','members_votes_with_party_pct_sponsor']] = (df_all[['members_missed_votes_pct', 'missed_votes_pct','members_seniority', 'members_seniority_sponsor', \n",
    " 'members_votes_with_party_pct','votes_with_party_pct','members_votes_with_party_pct_sponsor']].astype(float))"
   ]
  },
  {
   "cell_type": "code",
   "execution_count": 107,
   "metadata": {},
   "outputs": [],
   "source": [
    "independent_vars = (['mentions_non_partisan_agency_no_median',\n",
    "                 'uses_statistics_median',\n",
    "                 'crs_sim_avg_median'])\n",
    "\n",
    "predictor = ['vote_with_party']\n",
    "\n",
    "moderators = (['cosponsored_by_mt1_party',\n",
    "             'cosponsored_ratio_mr40pc',\n",
    "             'primary_suject_no_months_mentioned',\n",
    "             'subject_nicheness', 'dw_nominate_members',           \n",
    "         'days_ago', 'dw_nominate_voters',\n",
    "         'members_yrs_until_nxt_election',\n",
    "         'members_age',\n",
    "         'swing_state',\n",
    "         'swing_state2',\n",
    "         'member_diff_party_state',\n",
    "              'votes_time_of_day',\n",
    "        'members_gender',\n",
    "     'members_leadership_role',\n",
    "     'members_missed_votes_pct',\n",
    "     'members_party',\n",
    "     'members_senate_class',\n",
    "     'members_seniority',\n",
    "     'members_state_rank',\n",
    "     'members_votes_with_party_pct',\n",
    "     'members_senate_class_sponsor',\n",
    "     'members_seniority_sponsor',\n",
    "     'members_state_rank_sponsor',\n",
    "     'members_leadership_role_sponsor',\n",
    "     'members_votes_with_party_pct_sponsor',\n",
    "     'members_party_sponsor',\n",
    "     'members_gender_sponsor',\n",
    "      'sponsor_party',\n",
    "    'votes_chamber'])\n",
    "\n",
    "control_vars = (['democratic_majority_position',\n",
    "             'democratic_no',\n",
    "             'democratic_not_voting',\n",
    "             'democratic_present',\n",
    "             'democratic_yes',\n",
    "             'independent_no',\n",
    "             'independent_not_voting',\n",
    "             'independent_present',\n",
    "             'independent_yes',\n",
    "            'republican_majority_position',\n",
    "             'republican_no',\n",
    "             'republican_not_voting',\n",
    "             'republican_present',\n",
    "             'republican_yes',\n",
    "            'votes_total_no',\n",
    "             'votes_total_not_voting',\n",
    "             'votes_total_yes',\n",
    "               ])"
   ]
  },
  {
   "cell_type": "code",
   "execution_count": 108,
   "metadata": {},
   "outputs": [],
   "source": [
    "df_modelling = df_all[[*independent_vars, *predictor, *moderators, *control_vars]]"
   ]
  },
  {
   "cell_type": "code",
   "execution_count": 110,
   "metadata": {},
   "outputs": [
    {
     "name": "stdout",
     "output_type": "stream",
     "text": [
      "['members_gender', 'members_leadership_role', 'members_party', 'members_senate_class', 'members_state_rank', 'members_senate_class_sponsor', 'members_state_rank_sponsor', 'members_leadership_role_sponsor', 'members_party_sponsor', 'members_gender_sponsor', 'sponsor_party', 'votes_chamber', 'democratic_majority_position', 'republican_majority_position', 'votes_time_of_day']\n"
     ]
    }
   ],
   "source": [
    "import pandas as pd\n",
    "# Making dummies\n",
    "object_cols = list(df_modelling.select_dtypes(include=[object]).columns)\n",
    "object_cols.append('votes_time_of_day')\n",
    "print(object_cols)\n",
    "\n",
    "\n",
    "df_modelling = (pd.get_dummies(df_modelling, prefix=object_cols, \n",
    "        columns=object_cols, dtype = int))"
   ]
  },
  {
   "cell_type": "code",
   "execution_count": 112,
   "metadata": {},
   "outputs": [],
   "source": [
    "moderators_dum = []\n",
    "for moderator in moderators:\n",
    "    for col in df_modelling:\n",
    "        if moderator in col:\n",
    "            moderators_dum.append(col)"
   ]
  },
  {
   "cell_type": "code",
   "execution_count": 113,
   "metadata": {},
   "outputs": [],
   "source": [
    "moderators_dum.remove('members_gender_M')\n",
    "moderators_dum.remove('members_gender_sponsor_M')"
   ]
  },
  {
   "cell_type": "markdown",
   "metadata": {},
   "source": [
    "## Modelling"
   ]
  },
  {
   "cell_type": "markdown",
   "metadata": {},
   "source": [
    "### Predictors\n",
    "\n",
    "- Similarity with CRS reports\n",
    "- Number of mentions non-partisan research\n",
    "- Number of statistics"
   ]
  },
  {
   "cell_type": "markdown",
   "metadata": {},
   "source": [
    "### What influences vote?\n",
    "\n",
    "Data structured as vote by each member being the object of interest.\n",
    " \n",
    "- Bill: co-sponsorship, subject nicheness\n",
    "- Voter: swing-state, years until next election, DW-nominate scale, senator / representative, gender, age\n",
    "- Vote: how long ago\n"
   ]
  },
  {
   "cell_type": "code",
   "execution_count": 114,
   "metadata": {},
   "outputs": [],
   "source": [
    "# Correlations between predictors\n",
    "from scipy.stats.stats import pearsonr\n",
    "\n",
    "independent_vars_mean = (['crs_sim_avg_median', 'mentions_non_partisan_agency_no_median', \n",
    "              'uses_statistics_median'])\n",
    "correlations_dict = {}\n",
    "for var in independent_vars_mean:\n",
    "    for variable in independent_vars_mean:\n",
    "        corr = pearsonr(df_modelling[var], df_modelling[variable])\n",
    "        if var != variable:\n",
    "            correlations_dict[(var, variable)] = corr"
   ]
  },
  {
   "cell_type": "code",
   "execution_count": 115,
   "metadata": {},
   "outputs": [
    {
     "data": {
      "text/plain": [
       "{('crs_sim_avg_median',\n",
       "  'mentions_non_partisan_agency_no_median'): (0.11544000841379777, 0.0),\n",
       " ('crs_sim_avg_median', 'uses_statistics_median'): (0.08573367839487948, 0.0),\n",
       " ('mentions_non_partisan_agency_no_median',\n",
       "  'crs_sim_avg_median'): (0.11544000841379777, 0.0),\n",
       " ('mentions_non_partisan_agency_no_median',\n",
       "  'uses_statistics_median'): (0.07078307872149951, 0.0),\n",
       " ('uses_statistics_median', 'crs_sim_avg_median'): (0.08573367839487948, 0.0),\n",
       " ('uses_statistics_median',\n",
       "  'mentions_non_partisan_agency_no_median'): (0.07078307872149951, 0.0)}"
      ]
     },
     "execution_count": 115,
     "metadata": {},
     "output_type": "execute_result"
    }
   ],
   "source": [
    "correlations_dict"
   ]
  },
  {
   "cell_type": "code",
   "execution_count": 116,
   "metadata": {},
   "outputs": [],
   "source": [
    "df_modelling = df_modelling.loc[:,~df_modelling.columns.duplicated()]"
   ]
  },
  {
   "cell_type": "code",
   "execution_count": 117,
   "metadata": {},
   "outputs": [],
   "source": [
    "from pandas.api.types import is_numeric_dtype\n",
    "\n",
    "for col in df_modelling.columns:\n",
    "    if is_numeric_dtype(df_modelling[col]):\n",
    "        df_modelling[col] = df_modelling[col].fillna(df_modelling[col].mean(),axis=0)\n",
    "    elif is_string_dtype(df_modelling[col]):\n",
    "        df_modelling[col] = df_modelling[col].fillna('',axis=0)\n",
    "    else:\n",
    "        df_modelling[col] = df_modelling[col].astype(str)\n",
    "        df_modelling[col] = df_modelling[col].fillna('',axis=0)"
   ]
  },
  {
   "cell_type": "code",
   "execution_count": 118,
   "metadata": {},
   "outputs": [],
   "source": [
    "# Generate interaction variables\n",
    "from sklearn.preprocessing import PolynomialFeatures\n",
    "df_interactions = pd.DataFrame()\n",
    "for ind_var in independent_vars:\n",
    "    for var in moderators_dum:\n",
    "        try:\n",
    "            x_t = PolynomialFeatures(2, interaction_only=True, include_bias=False).fit(df_modelling[[ind_var, var]])\n",
    "            features = pd.DataFrame(x_t.transform(df_modelling[[ind_var, var]]), columns=x_t.get_feature_names([ind_var, var]))\n",
    "            if df_interactions.empty is True:\n",
    "                df_interactions = features.iloc[:,-1]\n",
    "            else:\n",
    "                df_interactions = pd.concat([df_interactions, features.iloc[:,-1]], axis = 1)\n",
    "        except(ValueError):\n",
    "            print(ind_var, var)\n",
    "            "
   ]
  },
  {
   "cell_type": "code",
   "execution_count": 119,
   "metadata": {},
   "outputs": [],
   "source": [
    "df_modelling_interactions = pd.concat([df_modelling,df_interactions], axis = 1)"
   ]
  },
  {
   "cell_type": "code",
   "execution_count": 120,
   "metadata": {},
   "outputs": [],
   "source": [
    "# Test train split\n",
    "import pandas as pd\n",
    "from sklearn.model_selection import train_test_split\n",
    "\n",
    "y = df_modelling_interactions['vote_with_party']\n",
    "X = df_modelling_interactions.drop(columns = 'vote_with_party')\n",
    "\n",
    "# Test, train split\n",
    "X_tr, X_holdout, y_tr, y_holdout = train_test_split(X, y, test_size=0.3,random_state=42)"
   ]
  },
  {
   "cell_type": "code",
   "execution_count": 121,
   "metadata": {},
   "outputs": [
    {
     "name": "stdout",
     "output_type": "stream",
     "text": [
      "(781506, 773)\n",
      "(781506, 347)\n",
      "(781506, 346)\n",
      "(781506,)\n"
     ]
    }
   ],
   "source": [
    "print(df_all.shape)\n",
    "print(df_modelling_interactions.shape)\n",
    "print(X.shape)\n",
    "print(y.shape)"
   ]
  },
  {
   "cell_type": "code",
   "execution_count": 122,
   "metadata": {},
   "outputs": [],
   "source": [
    "# Pickle data\n",
    "\n",
    "import pickle\n",
    "output = open('X_tr.pkl', 'wb')\n",
    "pickle.dump(X_tr, output)\n",
    "\n",
    "output.close()\n",
    "\n",
    "output = open('y_tr.pkl', 'wb')\n",
    "pickle.dump(y_tr, output)\n",
    "\n",
    "output.close()\n",
    "\n",
    "import pickle\n",
    "output = open('X_holdout.pkl', 'wb')\n",
    "pickle.dump(X_holdout, output)\n",
    "\n",
    "output.close()\n",
    "\n",
    "output = open('y_holdout.pkl', 'wb')\n",
    "pickle.dump(y_holdout, output)\n",
    "\n",
    "output.close()"
   ]
  },
  {
   "cell_type": "code",
   "execution_count": 123,
   "metadata": {},
   "outputs": [],
   "source": [
    "# Load pickle\n",
    "import pickle\n",
    "pkl_file = open('X_tr.pkl', 'rb')\n",
    "X_tr = pickle.load(pkl_file)\n",
    "\n",
    "pkl_file = open('y_tr.pkl', 'rb')\n",
    "y_tr = pickle.load(pkl_file)\n",
    "\n",
    "pkl_file = open('X_holdout.pkl', 'rb')\n",
    "X_holdout = pickle.load(pkl_file)\n",
    "\n",
    "pkl_file = open('y_holdout.pkl', 'rb')\n",
    "y_holdout = pickle.load(pkl_file)"
   ]
  },
  {
   "cell_type": "code",
   "execution_count": 124,
   "metadata": {},
   "outputs": [],
   "source": [
    "from sklearn.preprocessing import StandardScaler\n",
    "\n",
    "# Scale for Logistic regression\n",
    "scaler = StandardScaler()"
   ]
  },
  {
   "cell_type": "code",
   "execution_count": 128,
   "metadata": {},
   "outputs": [],
   "source": [
    "# Create pipelines and parameter grids for each algorithm\n",
    "\n",
    "from imblearn.pipeline import make_pipeline, Pipeline\n",
    "from sklearn.ensemble import RandomForestClassifier\n",
    "from sklearn.linear_model import LogisticRegression\n",
    "import xgboost as xgb\n",
    "\n",
    "from tempfile import mkdtemp\n",
    "import numpy as np\n",
    "# Pipelines\n",
    "cachedir = mkdtemp() # cache in memory\n",
    "\n",
    "lr = LogisticRegression(fit_intercept = True)\n",
    "pipeline_lr = (Pipeline([\n",
    "                    ('scale',scaler),\n",
    "                    ('logistic_regression', lr)]))\n",
    "\n",
    "parameters_lr = [{'logistic_regression__C': [0.0001, 0.001, 0.1]}]"
   ]
  },
  {
   "cell_type": "code",
   "execution_count": 129,
   "metadata": {},
   "outputs": [
    {
     "name": "stdout",
     "output_type": "stream",
     "text": [
      "Current algorithm:  logistic_regression\n",
      "Fitting 3 folds for each of 3 candidates, totalling 9 fits\n",
      "[CV] logistic_regression__C=0.0001 ...................................\n",
      "[CV]  logistic_regression__C=0.0001, score=0.9540437510657421, total=  49.7s\n",
      "[CV] logistic_regression__C=0.0001 ...................................\n"
     ]
    },
    {
     "name": "stderr",
     "output_type": "stream",
     "text": [
      "[Parallel(n_jobs=1)]: Done   1 out of   1 | elapsed:   59.0s remaining:    0.0s\n"
     ]
    },
    {
     "name": "stdout",
     "output_type": "stream",
     "text": [
      "[CV]  logistic_regression__C=0.0001, score=0.9542348048975724, total=  50.5s\n",
      "[CV] logistic_regression__C=0.0001 ...................................\n"
     ]
    },
    {
     "name": "stderr",
     "output_type": "stream",
     "text": [
      "[Parallel(n_jobs=1)]: Done   2 out of   2 | elapsed:  2.0min remaining:    0.0s\n"
     ]
    },
    {
     "name": "stdout",
     "output_type": "stream",
     "text": [
      "[CV]  logistic_regression__C=0.0001, score=0.9544929277988352, total=  50.1s\n",
      "[CV] logistic_regression__C=0.001 ....................................\n"
     ]
    },
    {
     "name": "stderr",
     "output_type": "stream",
     "text": [
      "[Parallel(n_jobs=1)]: Done   3 out of   3 | elapsed:  3.0min remaining:    0.0s\n"
     ]
    },
    {
     "name": "stdout",
     "output_type": "stream",
     "text": [
      "[CV]  logistic_regression__C=0.001, score=0.9538609179255045, total= 1.2min\n",
      "[CV] logistic_regression__C=0.001 ....................................\n"
     ]
    },
    {
     "name": "stderr",
     "output_type": "stream",
     "text": [
      "[Parallel(n_jobs=1)]: Done   4 out of   4 | elapsed:  4.3min remaining:    0.0s\n"
     ]
    },
    {
     "name": "stdout",
     "output_type": "stream",
     "text": [
      "[CV]  logistic_regression__C=0.001, score=0.9540733462416553, total= 1.2min\n",
      "[CV] logistic_regression__C=0.001 ....................................\n",
      "[CV]  logistic_regression__C=0.001, score=0.9542477617890666, total= 1.2min\n",
      "[CV] logistic_regression__C=0.1 ......................................\n",
      "[CV]  logistic_regression__C=0.1, score=0.9538272954087488, total= 4.3min\n",
      "[CV] logistic_regression__C=0.1 ......................................\n",
      "[CV]  logistic_regression__C=0.1, score=0.9540746135793476, total= 4.5min\n",
      "[CV] logistic_regression__C=0.1 ......................................\n",
      "[CV]  logistic_regression__C=0.1, score=0.9542058396944358, total= 4.5min\n"
     ]
    },
    {
     "name": "stderr",
     "output_type": "stream",
     "text": [
      "[Parallel(n_jobs=1)]: Done   9 out of   9 | elapsed: 20.7min finished\n"
     ]
    },
    {
     "name": "stdout",
     "output_type": "stream",
     "text": [
      "Best parameters:  {'logistic_regression__C': 0.0001}\n",
      "Best estimator Pipeline(memory=None,\n",
      "     steps=[('scale', StandardScaler(copy=True, with_mean=True, with_std=True)), ('logistic_regression', LogisticRegression(C=0.0001, class_weight=None, dual=False,\n",
      "          fit_intercept=True, intercept_scaling=1, max_iter=100,\n",
      "          multi_class='ovr', n_jobs=1, penalty='l2', random_state=None,\n",
      "          solver='liblinear', tol=0.0001, verbose=0, warm_start=False))])\n",
      "Mean f1 of best estimator: 0.9542571603921001\n",
      "Std f1 of best estimator: 0.00018405555382526332\n"
     ]
    }
   ],
   "source": [
    "# Grid search through the parameters to find the best model\n",
    "from sklearn.model_selection import GridSearchCV\n",
    "from sklearn.metrics import r2_score\n",
    "import numpy as np\n",
    "\n",
    "algorithm_names = ['logistic_regression']\n",
    "parameter_list = [parameters_lr]\n",
    "pipeline_list = [pipeline_lr]\n",
    "\n",
    "model_results = []\n",
    "for i in range(0,len(pipeline_list)):\n",
    "    print('Current algorithm: ', algorithm_names[i])\n",
    "    gscv = GridSearchCV(pipeline_list[i], parameter_list[i], cv=3, scoring = 'f1', verbose = 5, refit = True)\n",
    "    gscv.fit(X_tr, y_tr.ravel()) \n",
    "    print(\"Best parameters: \", gscv.best_params_)\n",
    "    print(\"Best estimator\", gscv.best_estimator_)\n",
    "    mean = gscv.cv_results_['mean_test_score'][gscv.best_index_]\n",
    "    std = gscv.cv_results_['std_test_score'][gscv.best_index_]\n",
    "    try:\n",
    "        intercept = gscv.best_estimator_.named_steps[algorithm_names[i]].intercept_\n",
    "    except(AttributeError):\n",
    "        intercept = np.nan\n",
    "    try:\n",
    "        coefficients = gscv.best_estimator_.named_steps[algorithm_names[i]].coef_\n",
    "    except(AttributeError): \n",
    "        coefficients = np.zeros(len(X_tr.columns), dtype=float)\n",
    "        coefficients.fill(np.nan)\n",
    "    print(\"Mean f1 of best estimator:\", mean)\n",
    "    print(\"Std f1 of best estimator:\",  std)\n",
    "    # Creating a list of model dictionaries\n",
    "    model_results.append({'algorithm': algorithm_names[i],\n",
    "                        'model': gscv.best_estimator_, \n",
    "                        'coefficients': dict(zip(X_tr.columns, coefficients)),\n",
    "                        'intercept': intercept,\n",
    "                        'mean': mean,\n",
    "                        'std': std,\n",
    "                        'LB_r2': (mean - 2*std),\n",
    "                        'UB_r2': (mean + 2*std)})\n"
   ]
  },
  {
   "cell_type": "code",
   "execution_count": 130,
   "metadata": {},
   "outputs": [],
   "source": [
    "# Calculate p-values for coefficients\n",
    "import numpy as np\n",
    "import pandas as pd\n",
    "from scipy import stats\n",
    "\n",
    "params = np.append(gscv.best_estimator_.named_steps['logistic_regression'].intercept_, gscv.best_estimator_.named_steps['logistic_regression'].coef_[0])\n",
    "\n",
    "lr = gscv.best_estimator_.named_steps['logistic_regression']\n",
    "predictions = lr.predict(X_holdout)"
   ]
  },
  {
   "cell_type": "code",
   "execution_count": 131,
   "metadata": {},
   "outputs": [],
   "source": [
    "X_holdout.reset_index(inplace = True, drop = True)\n",
    "newX = pd.DataFrame({\"Constant\":np.ones(len(X_holdout))}).join(pd.DataFrame(X_holdout))\n",
    "MSE = (sum((y_holdout-predictions)**2))/(len(newX)-len(newX.columns))"
   ]
  },
  {
   "cell_type": "code",
   "execution_count": 132,
   "metadata": {},
   "outputs": [],
   "source": [
    "dot = np.dot(newX.T,newX)"
   ]
  },
  {
   "cell_type": "code",
   "execution_count": 133,
   "metadata": {},
   "outputs": [],
   "source": [
    "dot2 = np.array(dot, dtype = float)"
   ]
  },
  {
   "cell_type": "code",
   "execution_count": 134,
   "metadata": {},
   "outputs": [],
   "source": [
    "inv = np.linalg.pinv(dot2)"
   ]
  },
  {
   "cell_type": "code",
   "execution_count": 135,
   "metadata": {},
   "outputs": [
    {
     "name": "stderr",
     "output_type": "stream",
     "text": [
      "/home/ubuntu/anaconda3/lib/python3.6/site-packages/ipykernel_launcher.py:2: RuntimeWarning: invalid value encountered in sqrt\n",
      "  \n",
      "/home/ubuntu/anaconda3/lib/python3.6/site-packages/ipykernel_launcher.py:3: RuntimeWarning: divide by zero encountered in true_divide\n",
      "  This is separate from the ipykernel package so we can avoid doing imports until\n",
      "/home/ubuntu/anaconda3/lib/python3.6/site-packages/ipykernel_launcher.py:3: RuntimeWarning: invalid value encountered in true_divide\n",
      "  This is separate from the ipykernel package so we can avoid doing imports until\n"
     ]
    }
   ],
   "source": [
    "var_b = float(MSE)*inv.diagonal()\n",
    "sd_b = np.sqrt(var_b)\n",
    "ts_b = params / sd_b"
   ]
  },
  {
   "cell_type": "code",
   "execution_count": 136,
   "metadata": {},
   "outputs": [],
   "source": [
    "p_values =[2*(1-stats.t.cdf(np.abs(i),(len(newX)-1))) for i in ts_b]"
   ]
  },
  {
   "cell_type": "code",
   "execution_count": 137,
   "metadata": {},
   "outputs": [],
   "source": [
    "sd_b = np.round(sd_b,3)\n",
    "ts_b = np.round(ts_b,3)\n",
    "p_values = np.round(p_values,3)\n",
    "params = np.round(params,4)"
   ]
  },
  {
   "cell_type": "code",
   "execution_count": 138,
   "metadata": {},
   "outputs": [],
   "source": [
    "features = list(X_tr.columns)\n",
    "features.insert(0,'intercept')"
   ]
  },
  {
   "cell_type": "code",
   "execution_count": 139,
   "metadata": {},
   "outputs": [],
   "source": [
    "myDF3 = pd.DataFrame()\n",
    "myDF3['Features'],myDF3[\"Coefficients\"],myDF3[\"Standard Errors\"],myDF3[\"t values\"],myDF3[\"Probabilites\"] = [features, params,sd_b,ts_b,p_values]"
   ]
  },
  {
   "cell_type": "code",
   "execution_count": 140,
   "metadata": {},
   "outputs": [],
   "source": [
    "pd.set_option(\"display.max_colwidth\",-1)"
   ]
  },
  {
   "cell_type": "code",
   "execution_count": 141,
   "metadata": {},
   "outputs": [],
   "source": [
    "myDF3.to_csv('coefficient_table_mean_ind_best.csv')"
   ]
  },
  {
   "cell_type": "code",
   "execution_count": 142,
   "metadata": {},
   "outputs": [
    {
     "data": {
      "text/html": [
       "<div>\n",
       "<style scoped>\n",
       "    .dataframe tbody tr th:only-of-type {\n",
       "        vertical-align: middle;\n",
       "    }\n",
       "\n",
       "    .dataframe tbody tr th {\n",
       "        vertical-align: top;\n",
       "    }\n",
       "\n",
       "    .dataframe thead th {\n",
       "        text-align: right;\n",
       "    }\n",
       "</style>\n",
       "<table border=\"1\" class=\"dataframe\">\n",
       "  <thead>\n",
       "    <tr style=\"text-align: right;\">\n",
       "      <th></th>\n",
       "      <th>Features</th>\n",
       "      <th>Coefficients</th>\n",
       "      <th>Standard Errors</th>\n",
       "      <th>t values</th>\n",
       "      <th>Probabilites</th>\n",
       "    </tr>\n",
       "  </thead>\n",
       "  <tbody>\n",
       "    <tr>\n",
       "      <th>298</th>\n",
       "      <td>crs_sim_avg_median members_missed_votes_pct</td>\n",
       "      <td>-0.0550</td>\n",
       "      <td>0.004</td>\n",
       "      <td>-1.319700e+01</td>\n",
       "      <td>0.000</td>\n",
       "    </tr>\n",
       "    <tr>\n",
       "      <th>313</th>\n",
       "      <td>crs_sim_avg_median members_seniority_sponsor</td>\n",
       "      <td>-0.0137</td>\n",
       "      <td>0.001</td>\n",
       "      <td>-1.051100e+01</td>\n",
       "      <td>0.000</td>\n",
       "    </tr>\n",
       "    <tr>\n",
       "      <th>326</th>\n",
       "      <td>crs_sim_avg_median members_seniority_sponsor</td>\n",
       "      <td>-0.0137</td>\n",
       "      <td>0.001</td>\n",
       "      <td>-1.051100e+01</td>\n",
       "      <td>0.000</td>\n",
       "    </tr>\n",
       "    <tr>\n",
       "      <th>227</th>\n",
       "      <td>uses_statistics_median members_seniority</td>\n",
       "      <td>-0.0091</td>\n",
       "      <td>0.001</td>\n",
       "      <td>-1.580400e+01</td>\n",
       "      <td>0.000</td>\n",
       "    </tr>\n",
       "    <tr>\n",
       "      <th>182</th>\n",
       "      <td>uses_statistics_median days_ago</td>\n",
       "      <td>-0.0088</td>\n",
       "      <td>0.000</td>\n",
       "      <td>-9.271200e+01</td>\n",
       "      <td>0.000</td>\n",
       "    </tr>\n",
       "    <tr>\n",
       "      <th>128</th>\n",
       "      <td>mentions_non_partisan_agency_no_median members_missed_votes_pct</td>\n",
       "      <td>-0.0074</td>\n",
       "      <td>0.001</td>\n",
       "      <td>-6.484000e+00</td>\n",
       "      <td>0.000</td>\n",
       "    </tr>\n",
       "    <tr>\n",
       "      <th>312</th>\n",
       "      <td>crs_sim_avg_median members_seniority</td>\n",
       "      <td>-0.0062</td>\n",
       "      <td>0.003</td>\n",
       "      <td>-2.252000e+00</td>\n",
       "      <td>0.024</td>\n",
       "    </tr>\n",
       "    <tr>\n",
       "      <th>213</th>\n",
       "      <td>uses_statistics_median members_missed_votes_pct</td>\n",
       "      <td>-0.0056</td>\n",
       "      <td>0.001</td>\n",
       "      <td>-5.881000e+00</td>\n",
       "      <td>0.000</td>\n",
       "    </tr>\n",
       "    <tr>\n",
       "      <th>270</th>\n",
       "      <td>crs_sim_avg_median members_age</td>\n",
       "      <td>-0.0049</td>\n",
       "      <td>0.002</td>\n",
       "      <td>-2.149000e+00</td>\n",
       "      <td>0.032</td>\n",
       "    </tr>\n",
       "    <tr>\n",
       "      <th>100</th>\n",
       "      <td>mentions_non_partisan_agency_no_median members_age</td>\n",
       "      <td>-0.0031</td>\n",
       "      <td>0.001</td>\n",
       "      <td>-5.635000e+00</td>\n",
       "      <td>0.000</td>\n",
       "    </tr>\n",
       "    <tr>\n",
       "      <th>185</th>\n",
       "      <td>uses_statistics_median members_age</td>\n",
       "      <td>-0.0021</td>\n",
       "      <td>0.000</td>\n",
       "      <td>-4.669000e+00</td>\n",
       "      <td>0.000</td>\n",
       "    </tr>\n",
       "    <tr>\n",
       "      <th>201</th>\n",
       "      <td>uses_statistics_median members_leadership_role_Majority Leader</td>\n",
       "      <td>0.0008</td>\n",
       "      <td>0.000</td>\n",
       "      <td>inf</td>\n",
       "      <td>0.000</td>\n",
       "    </tr>\n",
       "    <tr>\n",
       "      <th>113</th>\n",
       "      <td>mentions_non_partisan_agency_no_median members_leadership_role_Assistant Leader</td>\n",
       "      <td>0.0009</td>\n",
       "      <td>0.000</td>\n",
       "      <td>6.614444e+06</td>\n",
       "      <td>0.000</td>\n",
       "    </tr>\n",
       "    <tr>\n",
       "      <th>199</th>\n",
       "      <td>uses_statistics_median members_leadership_role_Caucus Chair</td>\n",
       "      <td>0.0014</td>\n",
       "      <td>0.000</td>\n",
       "      <td>inf</td>\n",
       "      <td>0.000</td>\n",
       "    </tr>\n",
       "    <tr>\n",
       "      <th>294</th>\n",
       "      <td>crs_sim_avg_median members_leadership_role_sponsor_Caucus Chair</td>\n",
       "      <td>0.0036</td>\n",
       "      <td>0.001</td>\n",
       "      <td>6.042000e+00</td>\n",
       "      <td>0.000</td>\n",
       "    </tr>\n",
       "    <tr>\n",
       "      <th>332</th>\n",
       "      <td>crs_sim_avg_median members_leadership_role_sponsor_Caucus Chair</td>\n",
       "      <td>0.0036</td>\n",
       "      <td>0.001</td>\n",
       "      <td>6.042000e+00</td>\n",
       "      <td>0.000</td>\n",
       "    </tr>\n",
       "    <tr>\n",
       "      <th>97</th>\n",
       "      <td>mentions_non_partisan_agency_no_median days_ago</td>\n",
       "      <td>0.0060</td>\n",
       "      <td>0.000</td>\n",
       "      <td>7.315400e+01</td>\n",
       "      <td>0.000</td>\n",
       "    </tr>\n",
       "    <tr>\n",
       "      <th>267</th>\n",
       "      <td>crs_sim_avg_median days_ago</td>\n",
       "      <td>0.0064</td>\n",
       "      <td>0.000</td>\n",
       "      <td>1.181680e+02</td>\n",
       "      <td>0.000</td>\n",
       "    </tr>\n",
       "    <tr>\n",
       "      <th>94</th>\n",
       "      <td>mentions_non_partisan_agency_no_median primary_suject_no_months_mentioned</td>\n",
       "      <td>0.0080</td>\n",
       "      <td>0.002</td>\n",
       "      <td>5.026000e+00</td>\n",
       "      <td>0.000</td>\n",
       "    </tr>\n",
       "    <tr>\n",
       "      <th>241</th>\n",
       "      <td>uses_statistics_median members_seniority_sponsor</td>\n",
       "      <td>0.0176</td>\n",
       "      <td>0.002</td>\n",
       "      <td>1.141400e+01</td>\n",
       "      <td>0.000</td>\n",
       "    </tr>\n",
       "    <tr>\n",
       "      <th>228</th>\n",
       "      <td>uses_statistics_median members_seniority_sponsor</td>\n",
       "      <td>0.0176</td>\n",
       "      <td>0.002</td>\n",
       "      <td>1.141400e+01</td>\n",
       "      <td>0.000</td>\n",
       "    </tr>\n",
       "    <tr>\n",
       "      <th>321</th>\n",
       "      <td>crs_sim_avg_median members_votes_with_party_pct</td>\n",
       "      <td>0.0195</td>\n",
       "      <td>0.005</td>\n",
       "      <td>4.002000e+00</td>\n",
       "      <td>0.000</td>\n",
       "    </tr>\n",
       "    <tr>\n",
       "      <th>264</th>\n",
       "      <td>crs_sim_avg_median primary_suject_no_months_mentioned</td>\n",
       "      <td>0.0716</td>\n",
       "      <td>0.003</td>\n",
       "      <td>2.121100e+01</td>\n",
       "      <td>0.000</td>\n",
       "    </tr>\n",
       "  </tbody>\n",
       "</table>\n",
       "</div>"
      ],
      "text/plain": [
       "                                                                            Features  \\\n",
       "298  crs_sim_avg_median members_missed_votes_pct                                       \n",
       "313  crs_sim_avg_median members_seniority_sponsor                                      \n",
       "326  crs_sim_avg_median members_seniority_sponsor                                      \n",
       "227  uses_statistics_median members_seniority                                          \n",
       "182  uses_statistics_median days_ago                                                   \n",
       "128  mentions_non_partisan_agency_no_median members_missed_votes_pct                   \n",
       "312  crs_sim_avg_median members_seniority                                              \n",
       "213  uses_statistics_median members_missed_votes_pct                                   \n",
       "270  crs_sim_avg_median members_age                                                    \n",
       "100  mentions_non_partisan_agency_no_median members_age                                \n",
       "185  uses_statistics_median members_age                                                \n",
       "201  uses_statistics_median members_leadership_role_Majority Leader                    \n",
       "113  mentions_non_partisan_agency_no_median members_leadership_role_Assistant Leader   \n",
       "199  uses_statistics_median members_leadership_role_Caucus Chair                       \n",
       "294  crs_sim_avg_median members_leadership_role_sponsor_Caucus Chair                   \n",
       "332  crs_sim_avg_median members_leadership_role_sponsor_Caucus Chair                   \n",
       "97   mentions_non_partisan_agency_no_median days_ago                                   \n",
       "267  crs_sim_avg_median days_ago                                                       \n",
       "94   mentions_non_partisan_agency_no_median primary_suject_no_months_mentioned         \n",
       "241  uses_statistics_median members_seniority_sponsor                                  \n",
       "228  uses_statistics_median members_seniority_sponsor                                  \n",
       "321  crs_sim_avg_median members_votes_with_party_pct                                   \n",
       "264  crs_sim_avg_median primary_suject_no_months_mentioned                             \n",
       "\n",
       "     Coefficients  Standard Errors      t values  Probabilites  \n",
       "298 -0.0550        0.004           -1.319700e+01  0.000         \n",
       "313 -0.0137        0.001           -1.051100e+01  0.000         \n",
       "326 -0.0137        0.001           -1.051100e+01  0.000         \n",
       "227 -0.0091        0.001           -1.580400e+01  0.000         \n",
       "182 -0.0088        0.000           -9.271200e+01  0.000         \n",
       "128 -0.0074        0.001           -6.484000e+00  0.000         \n",
       "312 -0.0062        0.003           -2.252000e+00  0.024         \n",
       "213 -0.0056        0.001           -5.881000e+00  0.000         \n",
       "270 -0.0049        0.002           -2.149000e+00  0.032         \n",
       "100 -0.0031        0.001           -5.635000e+00  0.000         \n",
       "185 -0.0021        0.000           -4.669000e+00  0.000         \n",
       "201  0.0008        0.000            inf           0.000         \n",
       "113  0.0009        0.000            6.614444e+06  0.000         \n",
       "199  0.0014        0.000            inf           0.000         \n",
       "294  0.0036        0.001            6.042000e+00  0.000         \n",
       "332  0.0036        0.001            6.042000e+00  0.000         \n",
       "97   0.0060        0.000            7.315400e+01  0.000         \n",
       "267  0.0064        0.000            1.181680e+02  0.000         \n",
       "94   0.0080        0.002            5.026000e+00  0.000         \n",
       "241  0.0176        0.002            1.141400e+01  0.000         \n",
       "228  0.0176        0.002            1.141400e+01  0.000         \n",
       "321  0.0195        0.005            4.002000e+00  0.000         \n",
       "264  0.0716        0.003            2.121100e+01  0.000         "
      ]
     },
     "execution_count": 142,
     "metadata": {},
     "output_type": "execute_result"
    }
   ],
   "source": [
    "#myDF3.loc[(myDF3['Probabilites'] <= 0.05) & (myDF3['Features'].isin(independent_vars))]\n",
    "#myDF3.loc[(myDF3['Features'].isin(independent_vars))]\n",
    "#myDF3.loc[(myDF3['Probabilites'] <= 0.05) & (myDF3['Features'].isin(moderators))]\n",
    "myDF3.loc[(myDF3['Probabilites'] <= 0.05) & (myDF3['Features'].isin(df_interactions.columns))].sort_values(by = ['Coefficients'])"
   ]
  },
  {
   "cell_type": "code",
   "execution_count": 143,
   "metadata": {},
   "outputs": [],
   "source": [
    "def two_thirds_same_sign(lst):\n",
    "    part_len_list = 2/3 * len(lst)\n",
    "    no_pos = float(sum(i >= 0 for i in lst))\n",
    "    if (no_pos >= part_len_list):\n",
    "        return 'positive coefficients'\n",
    "    elif ((len(lst) - no_pos) >= part_len_list):\n",
    "        return 'negative coefficients'\n",
    "    else:\n",
    "        return 'no clear relationship'"
   ]
  },
  {
   "cell_type": "code",
   "execution_count": 144,
   "metadata": {},
   "outputs": [],
   "source": [
    "# Create lists of moderators that are significant in 2/3 of their interactions and of those significant interactions\n",
    "# 2/3 of the coefficients have the same sign\n",
    "sig_moderators_pos, sig_moderators_neg  = [], []\n",
    "for mod in moderators:\n",
    "    features_int = [i for i, x in enumerate(myDF3['Features']) if mod in x]\n",
    "    p_values = {}\n",
    "    coeffs = []\n",
    "    for idx in features_int[1:]:\n",
    "        p_values[idx] = myDF3.loc[idx, 'Probabilites']\n",
    "    p_values_sig = [idx for idx, p in p_values.items() if p <= 0.05]\n",
    "    for idx in p_values_sig:\n",
    "        coeffs.append(myDF3.loc[idx, 'Coefficients'])    \n",
    "        if (len(p_values_sig) >= 2/3 * len(p_values)) & (two_thirds_same_sign(coeffs) == 'positive coefficients'):\n",
    "            sig_moderators_pos.append(mod)\n",
    "        elif (len(p_values_sig) >= 2/3 * len(p_values)) & (two_thirds_same_sign(coeffs) == 'negative coefficients'):\n",
    "            sig_moderators_neg.append(mod)\n",
    "        "
   ]
  },
  {
   "cell_type": "code",
   "execution_count": 145,
   "metadata": {},
   "outputs": [
    {
     "name": "stdout",
     "output_type": "stream",
     "text": [
      "Significant and positive moderators:  ['members_age', 'members_age', 'members_age', 'members_missed_votes_pct', 'members_missed_votes_pct', 'members_missed_votes_pct', 'members_seniority', 'members_seniority', 'members_seniority', 'members_seniority', 'members_seniority']\n",
      "Significant and negative moderators ['primary_suject_no_months_mentioned', 'primary_suject_no_months_mentioned', 'days_ago', 'days_ago', 'members_seniority_sponsor', 'members_seniority_sponsor', 'members_seniority_sponsor']\n"
     ]
    }
   ],
   "source": [
    "print(\"Significant and positive moderators: \", sig_moderators_neg)\n",
    "print(\"Significant and negative moderators\", sig_moderators_pos)"
   ]
  },
  {
   "cell_type": "code",
   "execution_count": 146,
   "metadata": {},
   "outputs": [
    {
     "name": "stdout",
     "output_type": "stream",
     "text": [
      "                                                            Features  \\\n",
      "16   members_missed_votes_pct                                          \n",
      "128  mentions_non_partisan_agency_no_median members_missed_votes_pct   \n",
      "213  uses_statistics_median members_missed_votes_pct                   \n",
      "298  crs_sim_avg_median members_missed_votes_pct                       \n",
      "\n",
      "     Coefficients  Standard Errors  t values  Probabilites  \n",
      "16  -0.1207        0.000           -520.785   0.0           \n",
      "128 -0.0074        0.001           -6.484     0.0           \n",
      "213 -0.0056        0.001           -5.881     0.0           \n",
      "298 -0.0550        0.004           -13.197    0.0           \n",
      "                                                             Features  \\\n",
      "17   members_seniority                                                  \n",
      "19   members_seniority_sponsor                                          \n",
      "142  mentions_non_partisan_agency_no_median members_seniority           \n",
      "143  mentions_non_partisan_agency_no_median members_seniority_sponsor   \n",
      "156  mentions_non_partisan_agency_no_median members_seniority_sponsor   \n",
      "227  uses_statistics_median members_seniority                           \n",
      "228  uses_statistics_median members_seniority_sponsor                   \n",
      "241  uses_statistics_median members_seniority_sponsor                   \n",
      "312  crs_sim_avg_median members_seniority                               \n",
      "313  crs_sim_avg_median members_seniority_sponsor                       \n",
      "326  crs_sim_avg_median members_seniority_sponsor                       \n",
      "\n",
      "     Coefficients  Standard Errors  t values  Probabilites  \n",
      "17  -0.0001        0.000           -0.913     0.361         \n",
      "19  -0.0641        0.000           -473.142   0.000         \n",
      "142  0.0002        0.001            0.364     0.716         \n",
      "143  0.0008        0.002            0.365     0.715         \n",
      "156  0.0008        0.002            0.365     0.715         \n",
      "227 -0.0091        0.001           -15.804    0.000         \n",
      "228  0.0176        0.002            11.414    0.000         \n",
      "241  0.0176        0.002            11.414    0.000         \n",
      "312 -0.0062        0.003           -2.252     0.024         \n",
      "313 -0.0137        0.001           -10.511    0.000         \n",
      "326 -0.0137        0.001           -10.511    0.000         \n",
      "                                               Features  Coefficients  \\\n",
      "12   members_age                                        -0.0004         \n",
      "100  mentions_non_partisan_agency_no_median members_age -0.0031         \n",
      "185  uses_statistics_median members_age                 -0.0021         \n",
      "270  crs_sim_avg_median members_age                     -0.0049         \n",
      "\n",
      "     Standard Errors  t values  Probabilites  \n",
      "12   0.000           -3.095     0.002         \n",
      "100  0.001           -5.635     0.000         \n",
      "185  0.000           -4.669     0.000         \n",
      "270  0.002           -2.149     0.032         \n"
     ]
    }
   ],
   "source": [
    "for mod in list(set(sig_moderators_neg)):\n",
    "    print(myDF3.loc[(myDF3['Features'].str.contains(mod))])"
   ]
  },
  {
   "cell_type": "code",
   "execution_count": 150,
   "metadata": {},
   "outputs": [],
   "source": [
    "sig_same_sign = myDF3.loc[(myDF3['Features'].str.contains(mod))]\n",
    "sig_same_sign.to_csv('/home/ubuntu/Notebooks/results.csv')"
   ]
  },
  {
   "cell_type": "code",
   "execution_count": 151,
   "metadata": {},
   "outputs": [
    {
     "name": "stdout",
     "output_type": "stream",
     "text": [
      "0.9466530873432896\n"
     ]
    }
   ],
   "source": [
    "# F1 score on holdout data\n",
    "from sklearn.metrics import f1_score\n",
    "f1 = f1_score(y_holdout, predictions)\n",
    "print(f1)"
   ]
  }
 ],
 "metadata": {
  "kernelspec": {
   "display_name": "Python 3",
   "language": "python",
   "name": "python3"
  },
  "language_info": {
   "codemirror_mode": {
    "name": "ipython",
    "version": 3
   },
   "file_extension": ".py",
   "mimetype": "text/x-python",
   "name": "python",
   "nbconvert_exporter": "python",
   "pygments_lexer": "ipython3",
   "version": "3.6.5"
  }
 },
 "nbformat": 4,
 "nbformat_minor": 2
}
